{
 "cells": [
  {
   "cell_type": "markdown",
   "metadata": {},
   "source": [
    "# Modelling nanomaterial properties using Machine Learning\n",
    "\n",
    "This Jupyter Notebook implements the code to generate a ML model to predict antimicrobial activity of ZnO doped with Cerium.\n",
    "The approach taken is to model using a supervised ML regression. \n",
    "\n",
    "Nanobiotech group, \n",
    "Tecnologico de Monterrey, Campus Guadalajara, Mexico\n",
    "September 2023"
   ]
  },
  {
   "cell_type": "markdown",
   "metadata": {},
   "source": [
    "### Import Libraries"
   ]
  },
  {
   "cell_type": "code",
   "execution_count": 1,
   "metadata": {},
   "outputs": [],
   "source": [
    "# Importing Packages\n",
    "import numpy as np\n",
    "import pandas as pd\n",
    "import matplotlib.pyplot as plt\n",
    "%matplotlib inline\n",
    "import seaborn as sns"
   ]
  },
  {
   "attachments": {},
   "cell_type": "markdown",
   "metadata": {},
   "source": [
    "Import the file to a pandas dataframe"
   ]
  },
  {
   "cell_type": "code",
   "execution_count": 2,
   "metadata": {},
   "outputs": [
    {
     "name": "stdout",
     "output_type": "stream",
     "text": [
      "(432, 29)\n"
     ]
    }
   ],
   "source": [
    "# This dataset contains information to compute % survival, as a \n",
    "# function of several parameters\n",
    "\n",
    "# 432 rows, 29 columns\n",
    "# File Cerio02 includes all the 28 independent variables prior to normalization\n",
    "df = pd.read_excel('./Dataset_ZnO+Ce.xlsx')\n",
    "\n",
    "print(df.shape)"
   ]
  },
  {
   "attachments": {},
   "cell_type": "markdown",
   "metadata": {},
   "source": [
    "Split target and variables\n",
    "\n",
    "In this case, the target is the column named \"survival\". The rest of the columns will be the independent variables in the model.\n",
    "survival = f(x1, x2, ... , x28)"
   ]
  },
  {
   "cell_type": "code",
   "execution_count": 3,
   "metadata": {},
   "outputs": [],
   "source": [
    "# drop all columns but target (survival)\n",
    "X = df.drop(labels={'survival'}, axis = 1) \n",
    "\n",
    "# get the target (survival)\n",
    "y = df['survival']  # Target"
   ]
  },
  {
   "attachments": {},
   "cell_type": "markdown",
   "metadata": {},
   "source": [
    "### Normalize the data\n",
    "\n",
    "A scaling on the data is performed by means of a Normalization.  \n",
    "\n",
    "Normalization scales each input variable separately to the range 0-1, which is the range for floating-point values where we have the most precision."
   ]
  },
  {
   "cell_type": "code",
   "execution_count": 4,
   "metadata": {},
   "outputs": [
    {
     "name": "stdout",
     "output_type": "stream",
     "text": [
      "[[0.    0.    0.    ... 0.    0.    0.   ]\n",
      " [0.    0.125 0.    ... 0.    0.    0.   ]\n",
      " [0.    0.25  0.    ... 0.    0.    0.   ]\n",
      " ...\n",
      " [1.    0.75  1.    ... 0.9   1.    1.   ]\n",
      " [1.    0.875 1.    ... 0.9   1.    1.   ]\n",
      " [1.    1.    1.    ... 0.9   1.    1.   ]]\n"
     ]
    }
   ],
   "source": [
    "from sklearn.preprocessing import MinMaxScaler\n",
    "\n",
    "scaler = MinMaxScaler()\n",
    "scaler.fit(X)\n",
    "X_norm = scaler.transform(X)\n",
    "print(X_norm)\n"
   ]
  },
  {
   "attachments": {},
   "cell_type": "markdown",
   "metadata": {},
   "source": [
    "### Split the data into train and test. \n",
    "Now using 70/30 % for train and test, respectively"
   ]
  },
  {
   "cell_type": "code",
   "execution_count": 5,
   "metadata": {},
   "outputs": [
    {
     "name": "stdout",
     "output_type": "stream",
     "text": [
      "(302, 28)\n",
      "(130, 28)\n",
      "(302,)\n",
      "(130,)\n"
     ]
    }
   ],
   "source": [
    "# Splitting the data into train and test split (70/30)\n",
    "from sklearn.model_selection import train_test_split\n",
    "X_train, X_test, y_train, y_test = train_test_split(X_norm, y, test_size=0.3, random_state=42)\n",
    "print(X_train.shape)\n",
    "print(X_test.shape)\n",
    "print(y_train.shape)\n",
    "print(y_test.shape)"
   ]
  },
  {
   "cell_type": "markdown",
   "metadata": {},
   "source": [
    "Import some sample regression metrics"
   ]
  },
  {
   "cell_type": "code",
   "execution_count": 6,
   "metadata": {},
   "outputs": [],
   "source": [
    "from sklearn.metrics import explained_variance_score,mean_squared_error, mean_absolute_error,r2_score"
   ]
  },
  {
   "cell_type": "markdown",
   "metadata": {},
   "source": [
    "Importing multiple regression models,"
   ]
  },
  {
   "cell_type": "code",
   "execution_count": 7,
   "metadata": {},
   "outputs": [],
   "source": [
    "from time import time\n",
    "from sklearn.linear_model import LinearRegression, Ridge,Lasso\n",
    "from sklearn.neighbors import KNeighborsRegressor\n",
    "from sklearn.ensemble import GradientBoostingRegressor\n",
    "from sklearn.ensemble import ExtraTreesRegressor, RandomForestRegressor\n",
    "from sklearn.tree import DecisionTreeRegressor\n",
    "from sklearn.neural_network import MLPRegressor\n",
    "from sklearn.svm import SVR"
   ]
  },
  {
   "cell_type": "markdown",
   "metadata": {},
   "source": [
    "We have import multiple regression models here which are available to us in SciKit Learn api. We are just selecting some of them for this post.\n",
    "\n",
    "Now create a list of these models"
   ]
  },
  {
   "cell_type": "code",
   "execution_count": 8,
   "metadata": {},
   "outputs": [],
   "source": [
    "regressors = [\n",
    "    MLPRegressor(max_iter=1000),\n",
    "    KNeighborsRegressor(),\n",
    "    GradientBoostingRegressor(),\n",
    "    ExtraTreesRegressor(),\n",
    "    RandomForestRegressor(),\n",
    "    DecisionTreeRegressor(),\n",
    "    LinearRegression(),\n",
    "    Lasso(),\n",
    "    Ridge(),\n",
    "    SVR()\n",
    "]"
   ]
  },
  {
   "cell_type": "markdown",
   "metadata": {},
   "source": [
    "The code to run all the models defined above and compute the error metrics (MAE)"
   ]
  },
  {
   "cell_type": "code",
   "execution_count": 9,
   "metadata": {},
   "outputs": [
    {
     "name": "stderr",
     "output_type": "stream",
     "text": [
      "/Library/Frameworks/Python.framework/Versions/3.11/lib/python3.11/site-packages/sklearn/neural_network/_multilayer_perceptron.py:686: ConvergenceWarning: Stochastic Optimizer: Maximum iterations (1000) reached and the optimization hasn't converged yet.\n",
      "  warnings.warn(\n"
     ]
    },
    {
     "name": "stdout",
     "output_type": "stream",
     "text": [
      "1.539 \t 0.001 \t 0.777 \t 9.098 \t 0.770\n",
      "0.001 \t 0.041 \t 0.670 \t 9.281 \t 0.668\n",
      "0.037 \t 0.000 \t 0.985 \t 2.272 \t 0.985\n",
      "0.129 \t 0.005 \t 0.985 \t 1.871 \t 0.985\n",
      "0.108 \t 0.003 \t 0.985 \t 2.080 \t 0.985\n",
      "0.001 \t 0.000 \t 0.980 \t 2.116 \t 0.980\n",
      "0.001 \t 0.000 \t 0.688 \t 10.829 \t 0.680\n",
      "0.000 \t 0.000 \t 0.637 \t 10.848 \t 0.634\n",
      "0.000 \t 0.000 \t 0.684 \t 10.756 \t 0.677\n",
      "0.002 \t 0.002 \t 0.259 \t 14.533 \t 0.222\n"
     ]
    }
   ],
   "source": [
    "head = 10\n",
    "for model in regressors[:head]:\n",
    "    start = time()\n",
    "    model.fit(X_train, y_train)\n",
    "    train_time = time() - start\n",
    "    start = time()\n",
    "    y_test_p = model.predict(X_test)\n",
    "    predict_time = time()-start\n",
    "\n",
    "    print(\"%0.3f \\t %0.3f \\t %0.3f \\t %0.3f \\t %0.3f\" % (train_time, predict_time, \n",
    "          explained_variance_score(y_test, y_test_p), mean_absolute_error(y_test, y_test_p),\n",
    "          r2_score(y_test, y_test_p)))\n",
    "\n",
    "    #print(model)\n",
    "    #print(\"\\tTraining time: %0.3fs\" % train_time)\n",
    "    #print(\"\\tPrediction time: %0.3fs\" % predict_time)\n",
    "    #print(\"\\tExplained variance:\", explained_variance_score(y_test, y_test_p))\n",
    "    #print(\"\\tMean absolute error:\", mean_absolute_error(y_test, y_test_p))\n",
    "    #print(\"\\tR2 score:\", r2_score(y_test, y_test_p))\n",
    "    #print()    "
   ]
  },
  {
   "cell_type": "code",
   "execution_count": 10,
   "metadata": {},
   "outputs": [],
   "source": [
    "# y_test is a dataframe, while y_test_p is an array, so they need to be converted to a common data structure.\n",
    "# in this case, we are passing y_test to an array     \n",
    "t_test_array = y_test.to_numpy(copy=True)"
   ]
  },
  {
   "attachments": {},
   "cell_type": "markdown",
   "metadata": {},
   "source": [
    "This piece of code will compute the predictions of both train and test datasets \n",
    "to generate the pairing plots of error. "
   ]
  },
  {
   "cell_type": "code",
   "execution_count": 13,
   "metadata": {},
   "outputs": [],
   "source": [
    "# We will only generate here the prediction files for the best and the worst models\n",
    "\n",
    "# Best is Extremely Random Trees\n",
    "model1 = ExtraTreesRegressor()\n",
    "model1.fit(X_train, y_train)\n",
    "y_test_p1 = model1.predict(X_test)\n",
    "y_train_p1 = model1.predict(X_train)\n",
    "# y_test is a dataframe, while y_test_p is an array, so they need to be converted to a common data structure.\n",
    "# in this case, we are passing y_test to an array     \n",
    "y_test_array = y_test.to_numpy(copy=True)\n",
    "# Then, both arrays are put together to form a 2D matrix\n",
    "y_matrix = np.vstack((y_test_array, y_test_p1)).T\n",
    "# And the result is sent to a file \n",
    "pd.DataFrame(y_matrix).to_csv('./test_error_ETR.csv', index = False)\n",
    "\n",
    "# y_train is a dataframe, while y_train_p is an array, so they need to be converted to a common data structure.\n",
    "# in this case, we are passing y_test to an array     \n",
    "y_train_array = y_train.to_numpy(copy=True)\n",
    "# Then, both arrays are put together to form a 2D matrix\n",
    "y_matrix = np.vstack((y_train_array, y_train_p1)).T\n",
    "# And the result is sent to a file \n",
    "pd.DataFrame(y_matrix).to_csv('./train_error_ETR.csv', index = False)\n",
    "r_squared2_p1 = r2_score(y_test, y_test_p1)\n",
    "\n",
    "# Worst is SVR \n",
    "model2 = SVR()\n",
    "model2.fit(X_train, y_train)\n",
    "y_test_p2 = model2.predict(X_test)\n",
    "y_train_p2 = model2.predict(X_train)\n",
    "# y_test is a dataframe, while y_test_p is an array, so they need to be converted to a common data structure.\n",
    "# in this case, we are passing y_test to an array     \n",
    "y_test_array = y_test.to_numpy(copy=True)\n",
    "# Then, both arrays are put together to form a 2D matrix\n",
    "y_matrix = np.vstack((y_test_array, y_test_p2)).T\n",
    "# And the result is sent to a file \n",
    "pd.DataFrame(y_matrix).to_csv('./test_error_SVR.csv', index = False)\n",
    "\n",
    "# y_train is a dataframe, while y_train_p is an array, so they need to be converted to a common data structure.\n",
    "# in this case, we are passing y_test to an array     \n",
    "y_train_array = y_train.to_numpy(copy=True)\n",
    "# Then, both arrays are put together to form a 2D matrix\n",
    "y_matrix = np.vstack((y_train_array, y_train_p2)).T\n",
    "# And the result is sent to a file \n",
    "pd.DataFrame(y_matrix).to_csv('./train_error_SVR.csv', index = False)\n",
    "\n",
    "r_squared2_p2 = r2_score(y_test, y_test_p2)"
   ]
  },
  {
   "cell_type": "markdown",
   "metadata": {},
   "source": [
    "### Error plots"
   ]
  },
  {
   "cell_type": "code",
   "execution_count": 14,
   "metadata": {},
   "outputs": [
    {
     "data": {
      "image/png": "[encoded data removed]",
      "text/plain": [
       "<Figure size 640x480 with 1 Axes>"
      ]
     },
     "metadata": {},
     "output_type": "display_data"
    }
   ],
   "source": [
    "plt.title('Extra Trees Regressor Model')\n",
    "plt.scatter(y_test_array,y_test_p1)\n",
    "plt.scatter(y_train_array,y_train_p1)\n",
    "plt.xlabel('Actual values')\n",
    "plt.ylabel('Predicted values')\n",
    "\n",
    "plt.plot(np.unique(y_test_array), np.poly1d(np.polyfit(y_test_array, y_test_p1, 1))(np.unique(y_test_array)))\n",
    "plt.plot(np.unique(y_train_array), np.poly1d(np.polyfit(y_train_array, y_train_p1, 1))(np.unique(y_train_array)))\n",
    "\n",
    "plt.text(20, 0.9, 'R-squared = %0.2f' % r_squared2_p1)\n",
    "plt.show()"
   ]
  },
  {
   "cell_type": "code",
   "execution_count": 15,
   "metadata": {},
   "outputs": [
    {
     "data": {
      "image/png": "[encoded data removed]",
      "text/plain": [
       "<Figure size 640x480 with 1 Axes>"
      ]
     },
     "metadata": {},
     "output_type": "display_data"
    }
   ],
   "source": [
    "plt.title('Support Vector Regressor Model')\n",
    "plt.scatter(y_test_array,y_test_p2)\n",
    "plt.scatter(y_train_array,y_train_p2)\n",
    "plt.xlabel('Actual values')\n",
    "plt.ylabel('Predicted values')\n",
    "\n",
    "plt.plot(np.unique(y_test_array), np.poly1d(np.polyfit(y_test_array, y_test_p2, 1))(np.unique(y_test_array)))\n",
    "plt.plot(np.unique(y_train_array), np.poly1d(np.polyfit(y_train_array, y_train_p2, 1))(np.unique(y_train_array)))\n",
    "\n",
    "plt.text(20, 10, 'R-squared = %0.2f' % r_squared2_p2)\n",
    "plt.show()"
   ]
  },
  {
   "attachments": {},
   "cell_type": "markdown",
   "metadata": {},
   "source": [
    "# Optimization step"
   ]
  },
  {
   "attachments": {},
   "cell_type": "markdown",
   "metadata": {},
   "source": [
    "Select the best models and optimize the hyper-parameters of them, run them again with the best parameters and compare the results"
   ]
  },
  {
   "cell_type": "code",
   "execution_count": null,
   "metadata": {},
   "outputs": [],
   "source": [
    "# Import scikit-learn\n",
    "from sklearn.metrics import mean_squared_error # for calculating the cost function\n",
    "from sklearn.metrics import mean_absolute_error # for calculating the cost function"
   ]
  },
  {
   "attachments": {},
   "cell_type": "markdown",
   "metadata": {},
   "source": [
    "## Optimize MPL Regressor"
   ]
  },
  {
   "cell_type": "code",
   "execution_count": null,
   "metadata": {},
   "outputs": [],
   "source": [
    "from sklearn.model_selection import GridSearchCV\n",
    "from datetime import datetime\n",
    "import time\n",
    "\n",
    "# get the start time\n",
    "st = time.time()\n",
    "\n",
    "param_list = {\"hidden_layer_sizes\": [(10,), (50,),(100,)], \n",
    "              \"activation\": [\"identity\", \"logistic\", \"tanh\", \"relu\"], \n",
    "              \"solver\": [\"lbfgs\", \"sgd\", \"adam\"], \n",
    "              \"alpha\": [0.00005,0.0005]}\n",
    "CV_mlpr = GridSearchCV(estimator=MLPRegressor(), param_grid=param_list)\n",
    "CV_mlpr.fit(X_train, y_train)\n",
    "\n",
    "# get the end time\n",
    "et = time.time()\n",
    "\n",
    "# get the execution time\n",
    "elapsed_time = et - st\n",
    "print('Execution time:', elapsed_time, 'seconds, or ', elapsed_time/60, ' minutes')\n",
    "\n",
    "# print best parameter after tuning \n",
    "print(CV_mlpr.best_params_)\n",
    "\n",
    "# Prediction\n",
    "Y_prediction = CV_mlpr.predict(X_test)\n",
    "test_mse = mean_squared_error(y_test, Y_prediction)\n",
    "test_mae = mean_absolute_error(y_test, Y_prediction)\n",
    "\n",
    "print(\"MAE for best model: \", test_mse)\n",
    "print(\"MSE for best model: \", test_mae)"
   ]
  },
  {
   "attachments": {},
   "cell_type": "markdown",
   "metadata": {},
   "source": [
    "## Optimize Extra Trees Regressor\n"
   ]
  },
  {
   "cell_type": "code",
   "execution_count": null,
   "metadata": {},
   "outputs": [],
   "source": [
    "from sklearn.model_selection import GridSearchCV\n",
    "from datetime import datetime\n",
    "import time\n",
    "\n",
    "# Define Grid \n",
    "# Consider the hyperparameters you want to test and the values for each in the grid\n",
    "\n",
    "grid_etr = {\n",
    "    #'n_estimators':[int(x) for x in np.arange(start = 100, stop = 2100, step = 100)],\n",
    "    'n_estimators':[100, 200, 300, 400, 500],\n",
    "    'criterion': ['squared_error', 'friedman_mse', 'absolute_error'],\n",
    "    'max_depth': [2,8,16,32,50],\n",
    "    #'min_samples_split': [2,4,6],\n",
    "    #'min_samples_leaf': [1,2],\n",
    "    #'oob_score': [True, False],\n",
    "    'max_features': [1.0,'sqrt','log2'],    \n",
    "    #'bootstrap': [True, False],\n",
    "    #'warm_start': [True, False],\n",
    "}\n",
    "\n",
    "# get the start time\n",
    "st = time.time()\n",
    "\n",
    "## Grid Search function\n",
    "CV_etr = GridSearchCV(estimator=ExtraTreesRegressor(), param_grid= grid_etr)\n",
    "CV_etr.fit(X_train, y_train)\n",
    "\n",
    "# get the end time\n",
    "et = time.time()\n",
    "\n",
    "# get the execution time\n",
    "elapsed_time = et - st\n",
    "print('Execution time:', elapsed_time, 'seconds, or ', elapsed_time/60, ' minutes')\n",
    "\n",
    "# print best parameter after tuning \n",
    "print(CV_etr.best_params_)"
   ]
  },
  {
   "cell_type": "code",
   "execution_count": null,
   "metadata": {},
   "outputs": [],
   "source": [
    "# Prediction\n",
    "Y_prediction = CV_etr.predict(X_test)\n",
    "test_mse = mean_squared_error(y_test, Y_prediction)\n",
    "test_mae = mean_absolute_error(y_test, Y_prediction)\n",
    "\n",
    "print(\"MAE for best model: \", test_mse)\n",
    "print(\"MSE for best model: \", test_mae)"
   ]
  },
  {
   "attachments": {},
   "cell_type": "markdown",
   "metadata": {},
   "source": [
    "## Optimize Random Forest Regressor"
   ]
  },
  {
   "cell_type": "code",
   "execution_count": null,
   "metadata": {},
   "outputs": [],
   "source": [
    "from sklearn.model_selection import GridSearchCV\n",
    "from datetime import datetime\n",
    "import time\n",
    "\n",
    "# Define Grid \n",
    "# Consider the hyperparameters you want to test and the values for each in the grid\n",
    "grid = { \n",
    "    'n_estimators': [100, 200,300,400,500],\n",
    "    'max_features': ['sqrt','log2'],\n",
    "    'max_depth' : [3,4,5,6,7],\n",
    "    'random_state' : [18]\n",
    "}\n",
    "\n",
    "# get the start time\n",
    "st = time.time()\n",
    "\n",
    "## Grid Search function\n",
    "CV_rfr = GridSearchCV(estimator=RandomForestRegressor(), param_grid=grid, cv= 5)\n",
    "CV_rfr.fit(X_train, y_train)\n",
    "\n",
    "# get the end time\n",
    "et = time.time()\n",
    "\n",
    "# get the execution time\n",
    "elapsed_time = et - st\n",
    "print('Execution time:', elapsed_time, 'seconds, or ', elapsed_time/60, ' minutes')\n",
    "\n",
    "# print best parameter after tuning \n",
    "print(CV_rfr.best_params_)\n",
    "\n",
    "# Prediction\n",
    "Y_prediction = CV_rfr.predict(X_test)\n",
    "test_mse = mean_squared_error(y_test, Y_prediction)\n",
    "test_mae = mean_absolute_error(y_test, Y_prediction)\n",
    "\n",
    "print(\"MAE for best model: \", test_mse)\n",
    "print(\"MSE for best model: \", test_mae)"
   ]
  },
  {
   "attachments": {},
   "cell_type": "markdown",
   "metadata": {},
   "source": [
    "Run it with the best parameters"
   ]
  },
  {
   "cell_type": "code",
   "execution_count": null,
   "metadata": {},
   "outputs": [],
   "source": [
    "# Create and train model with best parameters\n",
    "rf = RandomForestRegressor(n_estimators = 500, max_features = 'sqrt', max_depth = 7, random_state = 18)\n",
    "rf.fit(X_train, y_train)\n",
    "\n",
    "# Predict on test data\n",
    "prediction = rf.predict(X_test)\n",
    "\n",
    "# Compute errors\n",
    "best_mae = mean_absolute_error(y_test, prediction)\n",
    "best_mse = mean_squared_error(y_test, prediction)\n",
    "best_rmse= best_mse**0.5\n",
    "\n",
    "# Print results\n",
    "\n",
    "print(\"MAE for best model: \", best_mse)\n",
    "print(\"MSE for best model: \", best_rmse)\n"
   ]
  },
  {
   "attachments": {},
   "cell_type": "markdown",
   "metadata": {},
   "source": [
    "# Optimize Decision Tree Regressor"
   ]
  },
  {
   "cell_type": "code",
   "execution_count": null,
   "metadata": {},
   "outputs": [],
   "source": [
    "from sklearn import decomposition, datasets\n",
    "from sklearn import tree\n",
    "from sklearn.pipeline import Pipeline\n",
    "from sklearn.model_selection import GridSearchCV, cross_val_score\n",
    "from sklearn.preprocessing import StandardScaler\n",
    "\n",
    "from sklearn.model_selection import GridSearchCV\n",
    "from datetime import datetime\n",
    "import time\n",
    "\n",
    "\n",
    "std_slc = StandardScaler()\n",
    "pca = decomposition.PCA()\n",
    "dtreeReg = tree.DecisionTreeRegressor()\n",
    "\n",
    "\n",
    "pipe = Pipeline(steps=[(\"std_slc\", std_slc),(\"pca\", pca),(\"dtreeReg\", dtreeReg)])\n",
    "\n",
    "n_components = list(range(1,X.shape[1]+1,1))\n",
    "criterion = [\"friedman_mse\", \"mse\"]\n",
    "max_depth = [4,6,8,10]\n",
    "parameters = dict(pca__n_components=n_components,\n",
    "                      dtreeReg__criterion=criterion,\n",
    "                      dtreeReg__max_depth=max_depth)\n",
    "\n",
    "clf = GridSearchCV(pipe, parameters)\n",
    "clf.fit(X_train, y_train)\n",
    "\n",
    "\n",
    "print(\"Best Number Of Components:\", clf.best_estimator_.get_params()[\"pca__n_components\"])\n",
    "print(); print(clf.best_estimator_.get_params()[\"dtreeReg\"])\n",
    "CV_Result = cross_val_score(clf, X, y, cv=3, n_jobs=-1, scoring=\"r2\")\n",
    "print(); print(CV_Result)\n",
    "print(); print(CV_Result.mean())\n",
    "print(); print(CV_Result.std())\n"
   ]
  },
  {
   "cell_type": "code",
   "execution_count": null,
   "metadata": {},
   "outputs": [],
   "source": [
    "# Define Grid \n",
    "# Consider the hyperparameters you want to test and the values for each in the grid\n",
    "parameters={\"splitter\":[\"best\",\"random\"],\n",
    "            \"max_depth\" : [1,3,5,7,9,11,12],\n",
    "           \"min_samples_leaf\":[1,2,3,4,5,6,7,8,9,10],\n",
    "           \"min_weight_fraction_leaf\":[0.1,0.2,0.3,0.4,0.5,0.6,0.7,0.8,0.9],\n",
    "           \"max_features\":[\"auto\",\"log2\",\"sqrt\",None],\n",
    "           \"max_leaf_nodes\":[None,10,20,30,40,50,60,70,80,90] }\n",
    "\n",
    "\n",
    "\n",
    "#grid = { \n",
    "#    'n_estimators': [100, 200,300,400,500],\n",
    "#    'max_features': ['sqrt','log2'],\n",
    "#    'max_depth' : [3,4,5,6,7],\n",
    "#    'random_state' : [18]\n",
    "#}\n",
    "\n",
    "# get the start time\n",
    "st = time.time()\n",
    "\n",
    "## Grid Search function\n",
    "CV_dtr = GridSearchCV(estimator=DecisionTreeRegressor(), param_grid=parameters, cv= 5)\n",
    "CV_dtr.fit(X_train, y_train)\n",
    "\n",
    "# get the end time\n",
    "et = time.time()\n",
    "\n",
    "# get the execution time\n",
    "elapsed_time = et - st\n",
    "print('Execution time:', elapsed_time, 'seconds, or ', elapsed_time/60, ' minutes')\n",
    "\n",
    "# print best parameter after tuning \n",
    "print(CV_dtr.best_params_)\n",
    "\n",
    "Y_prediction = CV_dtr.predict(X_test)\n",
    "test_mse = mean_squared_error(y_test, Y_prediction)\n",
    "test_mae = mean_absolute_error(y_test, Y_prediction)\n",
    "\n",
    "print(\"MAE for best model: \", test_mse)\n",
    "print(\"MSE for best model: \", test_mae)"
   ]
  },
  {
   "attachments": {},
   "cell_type": "markdown",
   "metadata": {},
   "source": [
    "Run it with best parameters"
   ]
  },
  {
   "cell_type": "code",
   "execution_count": null,
   "metadata": {},
   "outputs": [],
   "source": [
    "# Create and train model with best parameters\n",
    "rf = RandomForestRegressor(n_estimators = 500, max_features = 'sqrt', max_depth = 7, random_state = 18)\n",
    "rf.fit(X_train, y_train)\n",
    "\n",
    "# Predict on test data\n",
    "prediction = rf.predict(X_test)\n",
    "\n",
    "# Compute errors\n",
    "best_mae = mean_absolute_error(y_test, prediction)\n",
    "best_mse = mean_squared_error(y_test, prediction)\n",
    "best_rmse= best_mse**0.5\n",
    "\n",
    "# Print results\n",
    "\n",
    "print(\"MAE for best model: \", best_mse)\n",
    "print(\"MSE for best model: \", best_rmse)"
   ]
  },
  {
   "cell_type": "code",
   "execution_count": null,
   "metadata": {},
   "outputs": [],
   "source": [
    "parameters = { 'loss' : ['ls', 'lad', 'huber', 'quantile'],\n",
    "              'learning_rate' : (0.05,0.25,0.50,1),\n",
    "              'criterion' : ['friedman_mse', 'mse', 'mae'],\n",
    "              'max_features' : ['auto', 'sqrt', 'log2']\n",
    "             }"
   ]
  },
  {
   "cell_type": "code",
   "execution_count": null,
   "metadata": {},
   "outputs": [],
   "source": [
    "grid = GridSearchCV(GradientBoostingRegressor(),parameters)\n",
    "model = grid.fit(X_sc,y)\n",
    "#print(model.best_params_,'\\n')\n",
    "#print(model.best_estimator_,'\\n')"
   ]
  },
  {
   "cell_type": "code",
   "execution_count": null,
   "metadata": {},
   "outputs": [],
   "source": [
    "sns.set_theme()\n",
    "sns.histplot(y_pred-y_test, kde=True, stat=\"density\")\n",
    "#sns.histplot(y_pred-y_test, kde=True, stat=\"density\", kde_kws=dict(cut=3))"
   ]
  },
  {
   "cell_type": "code",
   "execution_count": null,
   "metadata": {},
   "outputs": [],
   "source": []
  },
  {
   "cell_type": "markdown",
   "metadata": {},
   "source": [
    "# Attribute selection by using an Extra Tree"
   ]
  },
  {
   "cell_type": "code",
   "execution_count": null,
   "metadata": {},
   "outputs": [],
   "source": [
    "\n",
    "from sklearn.ensemble import ExtraTreesRegressor\n",
    "\n",
    "# Building the model\n",
    "ETR = ExtraTreesRegressor()\n",
    "\n",
    "# Training the model\n",
    "ETR.fit(X_train,y_train)\n",
    "\n",
    "# Computing the importance of each feature\n",
    "feature_importance = ETR.feature_importances_\n",
    "\n",
    "# Normalizing the individual importances\n",
    "feature_importance_normalized = np.std([ETR.feature_importances_ for tree in\n",
    "\t\t\t\t\t\t\t\t\t\tETR.estimators_],\n",
    "\t\t\t\t\t\t\t\t\t\taxis = 0)\n"
   ]
  },
  {
   "cell_type": "code",
   "execution_count": null,
   "metadata": {},
   "outputs": [],
   "source": [
    "feature_importance_normalized\n"
   ]
  },
  {
   "cell_type": "code",
   "execution_count": null,
   "metadata": {},
   "outputs": [],
   "source": [
    "feature_importance \n"
   ]
  },
  {
   "cell_type": "code",
   "execution_count": null,
   "metadata": {},
   "outputs": [],
   "source": [
    "feat_importances = pd.Series(RFR.feature_importances_, index=X.columns)\n",
    "feat_importances"
   ]
  },
  {
   "cell_type": "code",
   "execution_count": null,
   "metadata": {},
   "outputs": [],
   "source": [
    "# Plotting a Bar Graph to compare the models\n",
    "plt.bar(X.columns, feature_importance_normalized)\n",
    "plt.xlabel('Feature Labels')\n",
    "plt.ylabel('Feature Importances')\n",
    "plt.title('Comparison of different Feature Importances')\n",
    "plt.show()"
   ]
  },
  {
   "cell_type": "markdown",
   "metadata": {},
   "source": [
    "### Determine the n best features using scikit learn feature selection functions"
   ]
  },
  {
   "cell_type": "code",
   "execution_count": null,
   "metadata": {},
   "outputs": [],
   "source": [
    "#Import required modules\n",
    "\n",
    "from sklearn.feature_selection import SelectKBest\n",
    "from sklearn.feature_selection import chi2\n",
    "from sklearn.feature_selection import f_regression\n",
    "\n",
    "#apply SelectKBest class to extract top k best features\n",
    "bestfeatures = SelectKBest(f_regression, k=10)\n",
    "fit = bestfeatures.fit(X_train,y_train)\n",
    "dfscores = pd.DataFrame(fit.scores_)\n",
    "dfcolumns = pd.DataFrame(X.columns)\n",
    "\n",
    "#concat two dataframes for better visualization \n",
    "featureScores = pd.concat([dfcolumns,dfscores],axis=1)\n",
    "featureScores.columns = ['Specs','Score']  #naming the dataframe columns\n",
    "print(featureScores.nlargest(10,'Score'))  #print 10 best features\n"
   ]
  },
  {
   "cell_type": "code",
   "execution_count": null,
   "metadata": {},
   "outputs": [],
   "source": [
    "# determine 20 most important features\n",
    "df_imp_feat = feat_importances.nlargest(5)\n",
    "# print(rf_model.feature_importances_)\n",
    "\n",
    "# plot 20 most important features\n",
    "# feat_importances.nlargest(20).plot(kind='barh')\n",
    "df_imp_feat.plot(kind='barh')\n",
    "plt.show()\n",
    "print(df_imp_feat)"
   ]
  }
 ],
 "metadata": {
  "kernelspec": {
   "display_name": "Python 3",
   "language": "python",
   "name": "python3"
  },
  "language_info": {
   "codemirror_mode": {
    "name": "ipython",
    "version": 3
   },
   "file_extension": ".py",
   "mimetype": "text/x-python",
   "name": "python",
   "nbconvert_exporter": "python",
   "pygments_lexer": "ipython3",
   "version": "3.11.5"
  },
  "orig_nbformat": 4
 },
 "nbformat": 4,
 "nbformat_minor": 2
}
